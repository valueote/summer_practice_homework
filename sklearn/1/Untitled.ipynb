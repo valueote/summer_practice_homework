{
 "cells": [
  {
   "cell_type": "code",
   "execution_count": 25,
   "id": "3596ef7e-bc39-4e33-89ab-f186225a99eb",
   "metadata": {},
   "outputs": [],
   "source": [
    "# 导入库\n",
    "from sklearn import preprocessing\n",
    "import numpy as np\n",
    "from sklearn.impute import SimpleImputer\n",
    "\n",
    "# 创建一个3行3列的二维数组\n",
    "x_train = np.array([[1.0, -1.0, 2.0], [2.0, 0.0, 2.0], [0.0, 1.0, -1.0]])"
   ]
  },
  {
   "cell_type": "code",
   "execution_count": 26,
   "id": "fe0e54d0-78b6-4c77-bef5-2f0d7f117ad0",
   "metadata": {},
   "outputs": [
    {
     "data": {
      "text/plain": [
       "array([1., 1., 1.])"
      ]
     },
     "execution_count": 26,
     "metadata": {},
     "output_type": "execute_result"
    }
   ],
   "source": [
    "# 标准化\n",
    "x_scaled = preprocessing.scale(x_train)\n",
    "x_scaled.mean(axis=0)\n",
    "x_scaled.std(axis=0)"
   ]
  },
  {
   "cell_type": "code",
   "execution_count": 27,
   "id": "f460dca2-9df1-4e10-912c-47abf2d69631",
   "metadata": {},
   "outputs": [
    {
     "data": {
      "text/plain": [
       "array([[ 0.        , -1.22474487,  0.70710678],\n",
       "       [ 1.22474487,  0.        ,  0.70710678],\n",
       "       [-1.22474487,  1.22474487, -1.41421356]])"
      ]
     },
     "execution_count": 27,
     "metadata": {},
     "output_type": "execute_result"
    }
   ],
   "source": [
    "# 使用StandardScaler类的fit()函数\n",
    "scaler = preprocessing.StandardScaler().fit(x_train)\n",
    "scaler.mean_\n",
    "scaler.scale_\n",
    "scaler.transform(x_train)"
   ]
  },
  {
   "cell_type": "code",
   "execution_count": 28,
   "id": "fb522bbc-7804-4f15-b749-d837f16ef4b4",
   "metadata": {},
   "outputs": [
    {
     "data": {
      "text/plain": [
       "array([[-2.44948974,  1.22474487, -0.70710678]])"
      ]
     },
     "execution_count": 28,
     "metadata": {},
     "output_type": "execute_result"
    }
   ],
   "source": [
    "# 测试数据标准化\n",
    "x_test = [[-1.0, 1.0, 0.0]]\n",
    "scaler.transform(x_test)\n"
   ]
  },
  {
   "cell_type": "code",
   "execution_count": 29,
   "id": "9d0bae2b-c015-4b10-8210-c5192e5fcb4b",
   "metadata": {},
   "outputs": [],
   "source": [
    "# 区间缩放\n",
    "min_max_scaler = preprocessing.MinMaxScaler()\n",
    "x_train_minmax = min_max_scaler.fit_transform(x_train)\n",
    "\n",
    "x_test = np.array([[-3.0, -1.0, 4.0]]).reshape(1, -1)\n",
    "x_test_minmax = min_max_scaler.fit_transform(x_test)\n",
    "\n",
    "max_abs_scaler = preprocessing.MaxAbsScaler()\n",
    "X_train_maxabs = max_abs_scaler.fit_transform(x_train)\n",
    "X_test_maxabs = max_abs_scaler.fit_transform(x_test)"
   ]
  },
  {
   "cell_type": "code",
   "execution_count": 30,
   "id": "26912d5a-ed92-46d5-acbd-0b091b1e1a0e",
   "metadata": {},
   "outputs": [
    {
     "data": {
      "text/plain": [
       "array([[0., 0., 1.],\n",
       "       [1., 0., 1.],\n",
       "       [0., 0., 0.]])"
      ]
     },
     "execution_count": 30,
     "metadata": {},
     "output_type": "execute_result"
    }
   ],
   "source": [
    "# 正则化\n",
    "x_normalized = preprocessing.normalize(x_train, norm='l2')\n",
    "\n",
    "# 二值化\n",
    "binarizer = preprocessing.Binarizer().fit(x_train)\n",
    "binarizer.transform(x_train)\n",
    "\n",
    "binarizer1 = preprocessing.Binarizer(threshold=1.1)\n",
    "binarizer1.transform(x_train)"
   ]
  },
  {
   "cell_type": "code",
   "execution_count": 31,
   "id": "5a9b52d6-5917-4dab-9ea3-6126e5c1651c",
   "metadata": {},
   "outputs": [
    {
     "data": {
      "text/plain": [
       "array([[0., 1., 1., 0., 1., 0.]])"
      ]
     },
     "execution_count": 31,
     "metadata": {},
     "output_type": "execute_result"
    }
   ],
   "source": [
    "# 定性特征编码\n",
    "enc = preprocessing.OneHotEncoder()\n",
    "enc.fit([[0, 0, 3], [1, 1, 0], [0, 2, 1], [1, 0, 2]])\n",
    "enc.transform([[0, 1, 3]]).toarray()\n",
    "\n",
    "enc.fit([[1, 0, 3], [0, 2, 0]])\n",
    "enc.transform([[1, 0, 0]]).toarray()"
   ]
  },
  {
   "cell_type": "code",
   "execution_count": 32,
   "id": "acaf6a05-3c72-4f62-a9fc-6fc8cf5689c6",
   "metadata": {},
   "outputs": [
    {
     "data": {
      "text/plain": [
       "array([[4.        , 2.        ],\n",
       "       [6.        , 3.66666667],\n",
       "       [7.        , 6.        ]])"
      ]
     },
     "execution_count": 32,
     "metadata": {},
     "output_type": "execute_result"
    }
   ],
   "source": [
    "# 缺失值计算\n",
    "imp = SimpleImputer(missing_values=np.nan, strategy='mean')\n",
    "imp.fit([[1, 2], [np.nan, 3], [7, 6]])\n",
    "\n",
    "X = [[np.nan, 2], [6, np.nan], [7, 6]]\n",
    "imp.transform(X)"
   ]
  },
  {
   "cell_type": "code",
   "execution_count": 33,
   "id": "cfb7e633-bb58-4884-9ee2-039b37f6d62a",
   "metadata": {},
   "outputs": [
    {
     "data": {
      "text/plain": [
       "array([[  1.,   0.,   1.,   2.,   0.,   0.,   2.,   0.],\n",
       "       [  1.,   3.,   4.,   5.,  12.,  15.,  20.,  60.],\n",
       "       [  1.,   6.,   7.,   8.,  42.,  48.,  56., 336.]])"
      ]
     },
     "execution_count": 33,
     "metadata": {},
     "output_type": "execute_result"
    }
   ],
   "source": [
    "# 生成多项式特征\n",
    "X = np.arange(6).reshape(3, 2)\n",
    "poly = preprocessing.PolynomialFeatures(2)\n",
    "poly.fit_transform(X)\n",
    "\n",
    "X = np.arange(9).reshape(3, 3)\n",
    "poly = preprocessing.PolynomialFeatures(degree=3, interaction_only=True)\n",
    "poly.fit_transform(X)\n"
   ]
  },
  {
   "cell_type": "code",
   "execution_count": 34,
   "id": "ed498282-ff62-4333-9c52-ee16c859697a",
   "metadata": {},
   "outputs": [
    {
     "data": {
      "text/plain": [
       "array([[0.        , 0.69314718],\n",
       "       [1.09861229, 1.38629436]])"
      ]
     },
     "execution_count": 34,
     "metadata": {},
     "output_type": "execute_result"
    }
   ],
   "source": [
    "# 自定义函数变换\n",
    "transformer = preprocessing.FunctionTransformer(np.log1p)\n",
    "X = np.array([[0, 1], [2, 3]])\n",
    "transformer.transform(X)"
   ]
  },
  {
   "cell_type": "code",
   "execution_count": null,
   "id": "8c7b784c-de28-4e08-aa6a-0045ab13d2fc",
   "metadata": {},
   "outputs": [],
   "source": []
  }
 ],
 "metadata": {
  "kernelspec": {
   "display_name": "Python 3 (ipykernel)",
   "language": "python",
   "name": "python3"
  },
  "language_info": {
   "codemirror_mode": {
    "name": "ipython",
    "version": 3
   },
   "file_extension": ".py",
   "mimetype": "text/x-python",
   "name": "python",
   "nbconvert_exporter": "python",
   "pygments_lexer": "ipython3",
   "version": "3.10.12"
  }
 },
 "nbformat": 4,
 "nbformat_minor": 5
}
