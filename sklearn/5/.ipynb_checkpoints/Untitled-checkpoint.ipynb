{
 "cells": [
  {
   "cell_type": "code",
   "execution_count": 7,
   "id": "daca05c0-e44a-4fd8-a3a6-da6bbe8113e8",
   "metadata": {},
   "outputs": [],
   "source": [
    "import numpy as np\n",
    "from sklearn.metrics import accuracy_score\n",
    "from sklearn.metrics import average_precision_score\n",
    "from sklearn.metrics import f1_score\n",
    "from sklearn.metrics import log_loss\n",
    "from sklearn.metrics import precision_score\n",
    "from sklearn.metrics import recall_score\n",
    "from sklearn.metrics import confusion_matrix\n",
    "from sklearn.metrics import classification_report\n",
    "from sklearn import metrics\n",
    "from sklearn.metrics import roc_auc_score\n",
    "from sklearn.metrics import cohen_kappa_score\n",
    "from sklearn.metrics import hamming_loss\n",
    "from sklearn.metrics import zero_one_loss\n",
    "from sklearn.metrics import jaccard_score\n",
    "from sklearn.metrics import explained_variance_score\n",
    "from sklearn.metrics import mean_absolute_error\n",
    "from sklearn.metrics import mean_squared_error\n",
    "from sklearn.metrics import median_absolute_error\n",
    "from sklearn.metrics import r2_score\n",
    "from sklearn.metrics.cluster import adjusted_rand_score\n",
    "from sklearn.metrics.cluster import adjusted_mutual_info_score\n",
    "from sklearn import metrics\n",
    "from sklearn.metrics import pairwise_distances\n",
    "from sklearn import datasets\n",
    "from sklearn.cluster import KMeans"
   ]
  },
  {
   "cell_type": "code",
   "execution_count": 8,
   "id": "cfe945fd-1f86-4530-ab17-4845ab2b0d81",
   "metadata": {},
   "outputs": [
    {
     "data": {
      "text/plain": [
       "array([0.8, 0. , 0. ])"
      ]
     },
     "execution_count": 8,
     "metadata": {},
     "output_type": "execute_result"
    }
   ],
   "source": [
    "# 分类模型评估\n",
    "# 准确率\n",
    "y_pred = [0, 2, 1, 3]\n",
    "y_true = [0, 1, 2, 3]\n",
    "accuracy_score(y_true, y_pred)\n",
    "accuracy_score(y_true, y_pred, normalize=False)\n",
    "\n",
    "# 平均准确率\n",
    "y_true = np.array([0, 0, 1, 1])\n",
    "y_scores = np.array([0.1, 0.4, 0.35, 0.8])\n",
    "average_precision_score(y_true, y_scores)\n",
    "\n",
    "# f1_score值\n",
    "y_true = [0, 1, 2, 0, 1, 2]\n",
    "y_pred = [0, 2, 1, 0, 0, 1]\n",
    "f1_score(y_true, y_pred, average='micro')\n",
    "f1_score(y_true, y_pred, average='macro')\n",
    "f1_score(y_true, y_pred, average='weighted')\n",
    "f1_score(y_true, y_pred, average=None)\n",
    "\n"
   ]
  },
  {
   "cell_type": "code",
   "execution_count": 9,
   "id": "7d24880b-98e5-416a-8cba-3c3afcd913bb",
   "metadata": {},
   "outputs": [
    {
     "data": {
      "text/plain": [
       "array([[2, 0, 0],\n",
       "       [0, 0, 1],\n",
       "       [1, 0, 2]])"
      ]
     },
     "execution_count": 9,
     "metadata": {},
     "output_type": "execute_result"
    }
   ],
   "source": [
    "# 对数损失\n",
    "log_loss([\"spam\", \"ham\", \"ham\", \"spam\"],[[.1,.9], [.9,.1], [.8,.2], [.35,.65]])\n",
    "\n",
    "# 精确率\n",
    "y_true = [0, 1, 2, 0, 1, 2]\n",
    "y_pred = [0, 2, 1, 0, 0, 1]\n",
    "precision_score(y_true, y_pred, average='macro')\n",
    "precision_score(y_true, y_pred, average='micro')\n",
    "precision_score(y_true, y_pred, average='weighted')\n",
    "precision_score(y_true, y_pred, average=None)\n",
    "\n",
    "# 召回率\n",
    "y_true = [0, 1, 2, 0, 1, 2]\n",
    "y_pred = [0, 2, 1, 0, 0, 1]\n",
    "recall_score(y_true, y_pred, average='macro')\n",
    "recall_score(y_true, y_pred, average='micro')\n",
    "recall_score(y_true, y_pred, average='weighted')\n",
    "\n",
    "# 混合矩阵\n",
    "y_true=[2,0,2,2,0,1]\n",
    "y_pred=[0,0,2,2,0,2]\n",
    "confusion_matrix(y_true,y_pred)"
   ]
  },
  {
   "cell_type": "code",
   "execution_count": 17,
   "id": "6568c23a-fc59-4149-aeb0-491f8884b701",
   "metadata": {},
   "outputs": [
    {
     "name": "stdout",
     "output_type": "stream",
     "text": [
      "              precision    recall  f1-score   support\n",
      "\n",
      "     class 0       0.50      1.00      0.67         1\n",
      "     class 1       0.00      0.00      0.00         1\n",
      "     class 2       1.00      0.67      0.80         3\n",
      "\n",
      "    accuracy                           0.60         5\n",
      "   macro avg       0.50      0.56      0.49         5\n",
      "weighted avg       0.70      0.60      0.61         5\n",
      "\n",
      "[0.  0.  0.5 0.5 1. ] [0.  0.5 0.5 1.  1. ] [ inf 0.8  0.4  0.35 0.1 ]\n"
     ]
    },
    {
     "data": {
      "text/plain": [
       "0.4285714285714286"
      ]
     },
     "execution_count": 17,
     "metadata": {},
     "output_type": "execute_result"
    }
   ],
   "source": [
    "# 分类报告\n",
    "y_true = [0, 1, 2, 2, 2]\n",
    "y_pred = [0, 0, 2, 2, 1]\n",
    "target_names = ['class 0', 'class 1', 'class 2']\n",
    "print(classification_report(y_true, y_pred, target_names=target_names))\n",
    "\n",
    "# 受试者工作特征曲线\n",
    "y=np.array([1,1,2,2])\n",
    "scores=np.array([0.1,0.4,0.35,0.8])\n",
    "fpr, tpr, thresholds = metrics.roc_curve(y, scores, pos_label=2)\n",
    "print(fpr,tpr,thresholds)\n",
    "\n",
    "# ROC曲线下面的面积\n",
    "y_true = np.array([0, 0, 1, 1])\n",
    "y_scores = np.array([0.1, 0.4, 0.35, 0.8])\n",
    "roc_auc_score(y_true, y_scores)\n",
    "\n",
    "# Cohen’s kappa统计量\n",
    "y_true = [2, 0, 2, 2, 0, 1]\n",
    "y_pred = [0, 0, 2, 2, 0, 2]\n",
    "cohen_kappa_score(y_true,y_pred)"
   ]
  },
  {
   "cell_type": "code",
   "execution_count": 20,
   "id": "7ce92d94-caf5-4129-9866-41cd6806680f",
   "metadata": {},
   "outputs": [
    {
     "name": "stdout",
     "output_type": "stream",
     "text": [
      "0.25\n",
      "0.25\n",
      "1.0\n",
      "0.5\n",
      "1.0\n"
     ]
    },
    {
     "data": {
      "text/plain": [
       "array([1., 0., 0., 1., 1.])"
      ]
     },
     "execution_count": 20,
     "metadata": {},
     "output_type": "execute_result"
    }
   ],
   "source": [
    "# Hamming Loss\n",
    "y_pred=[1,2,3,4]\n",
    "y_true=[2,2,3,4]\n",
    "print(hamming_loss(y_true,y_pred))\n",
    "\n",
    "# 0-1损失\n",
    "y_pred=[1,2,3,4]\n",
    "y_true=[2,2,3,4]\n",
    "print(zero_one_loss(y_true,y_pred))\n",
    "print(zero_one_loss(y_true,y_pred,normalize=False))\n",
    "\n",
    "# 多分类标签问题\n",
    "print(zero_one_loss(np.array([[0,1],[1,1]]),np.ones((2,2))))\n",
    "print(zero_one_loss(np.array([[0,1],[1,1]]),np.ones((2,2)),normalize=False))\n",
    "\n",
    "# 杰卡德相似系数\n",
    "y_pred = [0, 2, 1, 3,4]\n",
    "y_true = [0, 1, 2, 3,4]\n",
    "jaccard_score(y_true, y_pred, average='macro') \n",
    "jaccard_score(y_true, y_pred, average=None)\n"
   ]
  },
  {
   "cell_type": "code",
   "execution_count": 19,
   "id": "ce15765a-4f47-4910-b201-b80a5f47bf03",
   "metadata": {},
   "outputs": [
    {
     "data": {
      "text/plain": [
       "0.85"
      ]
     },
     "execution_count": 19,
     "metadata": {},
     "output_type": "execute_result"
    }
   ],
   "source": [
    "# 回归评价指标\n",
    "# 可释方差值\n",
    "y_true = [3, -0.5, 2, 7]\n",
    "y_pred = [2.5, 0.0, 2, 8]\n",
    "explained_variance_score(y_true, y_pred)\n",
    "y_true = [[0.5, 1], [-1, 1], [7, -6]]\n",
    "y_pred = [[0, 2], [-1, 2], [8, -5]]\n",
    "explained_variance_score(y_true, y_pred, multioutput='raw_values')\n",
    "explained_variance_score(y_true, y_pred, multioutput='uniform_average')\n",
    "explained_variance_score(y_true, y_pred, multioutput='variance_weighted')\n",
    "\n",
    "# 平均绝对误差\n",
    "y_true = [3, -0.5, 2, 7]\n",
    "y_pred = [2.5, 0.0, 2, 8]\n",
    "mean_absolute_error(y_true, y_pred)\n",
    "y_true = [[0.5, 1], [-1, 1], [7, -6]]\n",
    "y_pred = [[0, 2], [-1, 2], [8, -5]]\n",
    "mean_absolute_error(y_true,y_pred,multioutput='raw_values')\n",
    "mean_absolute_error(y_true,y_pred,multioutput='uniform_average')\n",
    "mean_absolute_error(y_true,y_pred,multioutput=[0.3,0.7])\n"
   ]
  },
  {
   "cell_type": "code",
   "execution_count": 13,
   "id": "37e33667-690f-4367-8403-6ef3a6b1ce0f",
   "metadata": {},
   "outputs": [
    {
     "data": {
      "text/plain": [
       "0.9486081370449679"
      ]
     },
     "execution_count": 13,
     "metadata": {},
     "output_type": "execute_result"
    }
   ],
   "source": [
    "# 均方误差\n",
    "y_true = [3, -0.5, 2, 7]\n",
    "y_pred = [2.5, 0.0, 2, 8]\n",
    "mean_squared_error(y_true, y_pred)\n",
    "y_true = [[0.5, 1],[-1, 1],[7, -6]]\n",
    "y_pred = [[0, 2],[-1, 2],[8, -5]]\n",
    "mean_squared_error(y_true,y_pred,multioutput='raw_values')\n",
    "mean_squared_error(y_true, y_pred, multioutput=[0.3, 0.7])\n",
    "\n",
    "# 中值绝对误差\n",
    "y_true = [3, -0.5, 2, 7]\n",
    "y_pred = [2.5, 0.0, 2, 8]\n",
    "median_absolute_error(y_true, y_pred)\n",
    "\n",
    "# R2方值\n",
    "y_true = [3, -0.5, 2, 7]\n",
    "y_pred = [2.5, 0.0, 2, 8]\n",
    "r2_score(y_true, y_pred)"
   ]
  },
  {
   "cell_type": "code",
   "execution_count": 14,
   "id": "9023684d-7013-46bd-b387-9a9711cf714a",
   "metadata": {},
   "outputs": [],
   "source": [
    "# 聚类指标\n",
    "# 兰德指数\n",
    "adjusted_rand_score([0, 0, 1, 1], [0, 0, 1, 1])\n",
    "adjusted_rand_score([0, 0, 1, 1], [1, 1, 0, 0])\n",
    "adjusted_rand_score([0, 0, 0, 0], [0, 1, 2, 3])\n",
    "\n",
    "# 调整互信息\n",
    "adjusted_mutual_info_score([0, 0, 1, 1], [0, 0, 1, 1])\n",
    "adjusted_mutual_info_score([0, 0, 0, 0], [0, 1, 2, 3])\n",
    "\n",
    "# 轮廓系数\n",
    "# 导入iris数据\n",
    "dataset = datasets.load_iris()\n",
    "X = dataset.data\n",
    "y = dataset.target"
   ]
  },
  {
   "cell_type": "code",
   "execution_count": null,
   "id": "7ce15560-4dc0-4d4f-8e06-d5920b41d7f7",
   "metadata": {},
   "outputs": [],
   "source": []
  }
 ],
 "metadata": {
  "kernelspec": {
   "display_name": "Python 3 (ipykernel)",
   "language": "python",
   "name": "python3"
  },
  "language_info": {
   "codemirror_mode": {
    "name": "ipython",
    "version": 3
   },
   "file_extension": ".py",
   "mimetype": "text/x-python",
   "name": "python",
   "nbconvert_exporter": "python",
   "pygments_lexer": "ipython3",
   "version": "3.10.12"
  }
 },
 "nbformat": 4,
 "nbformat_minor": 5
}
