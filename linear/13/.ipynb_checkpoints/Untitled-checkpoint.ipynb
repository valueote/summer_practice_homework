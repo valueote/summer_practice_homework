{
 "cells": [
  {
   "cell_type": "code",
   "execution_count": 3,
   "id": "459e931b-57d8-408a-bb8d-b0e1dcec730b",
   "metadata": {},
   "outputs": [],
   "source": [
    "import pandas as pd\n",
    "from sklearn.model_selection import train_test_split\n",
    "from sklearn import tree,datasets"
   ]
  },
  {
   "cell_type": "code",
   "execution_count": 4,
   "id": "896534ba-71e1-48cb-b385-695a084bb971",
   "metadata": {},
   "outputs": [
    {
     "name": "stdout",
     "output_type": "stream",
     "text": [
      "   年龄               单位性质          学历       性别  周工作时长                  职业  \\\n",
      "0  39          State-gov   Bachelors     Male     40        Adm-clerical   \n",
      "1  50   Self-emp-not-inc   Bachelors     Male     13     Exec-managerial   \n",
      "2  38            Private     HS-grad     Male     40   Handlers-cleaners   \n",
      "3  53            Private        11th     Male     40   Handlers-cleaners   \n",
      "4  28            Private   Bachelors   Female     40      Prof-specialty   \n",
      "\n",
      "       收入  \n",
      "0   <=50K  \n",
      "1   <=50K  \n",
      "2   <=50K  \n",
      "3   <=50K  \n",
      "4   <=50K  \n"
     ]
    }
   ],
   "source": [
    "data = pd.read_csv('adult.csv',header=None,index_col=False,names=['年龄','单位性质','权重','学历','受教育时长','婚姻状况','职业','家庭情况','种族','性别','资产所得','资产损失','周工作时长','原籍','收入'])\n",
    "data_section = data[['年龄','单位性质','学历','性别','周工作时长','职业','收入']]\n",
    "print(data_section.head())"
   ]
  },
  {
   "cell_type": "code",
   "execution_count": 5,
   "id": "a87a3e37-a709-4b82-a237-f6af0876f977",
   "metadata": {},
   "outputs": [
    {
     "name": "stdout",
     "output_type": "stream",
     "text": [
      "样本原始特征: ['年龄', '单位性质', '学历', '性别', '周工作时长', '职业', '收入']\n",
      "虚拟变量特征: ['年龄', '周工作时长', '单位性质_ ?', '单位性质_ Federal-gov', '单位性质_ Local-gov', '单位性质_ Never-worked', '单位性质_ Private', '单位性质_ Self-emp-inc', '单位性质_ Self-emp-not-inc', '单位性质_ State-gov', '单位性质_ Without-pay', '学历_ 10th', '学历_ 11th', '学历_ 12th', '学历_ 1st-4th', '学历_ 5th-6th', '学历_ 7th-8th', '学历_ 9th', '学历_ Assoc-acdm', '学历_ Assoc-voc', '学历_ Bachelors', '学历_ Doctorate', '学历_ HS-grad', '学历_ Masters', '学历_ Preschool', '学历_ Prof-school', '学历_ Some-college', '性别_ Female', '性别_ Male', '职业_ ?', '职业_ Adm-clerical', '职业_ Armed-Forces', '职业_ Craft-repair', '职业_ Exec-managerial', '职业_ Farming-fishing', '职业_ Handlers-cleaners', '职业_ Machine-op-inspct', '职业_ Other-service', '职业_ Priv-house-serv', '职业_ Prof-specialty', '职业_ Protective-serv', '职业_ Sales', '职业_ Tech-support', '职业_ Transport-moving', '收入_ <=50K', '收入_ >50K']\n"
     ]
    }
   ],
   "source": [
    "data_dummies = pd.get_dummies(data_section)\n",
    "print('样本原始特征:',list(data_section.columns))\n",
    "print('虚拟变量特征:',list(data_dummies.columns))"
   ]
  },
  {
   "cell_type": "code",
   "execution_count": 6,
   "id": "f7465e21-66d6-418c-9d30-79019dcb094c",
   "metadata": {},
   "outputs": [
    {
     "data": {
      "text/html": [
       "<div>\n",
       "<style scoped>\n",
       "    .dataframe tbody tr th:only-of-type {\n",
       "        vertical-align: middle;\n",
       "    }\n",
       "\n",
       "    .dataframe tbody tr th {\n",
       "        vertical-align: top;\n",
       "    }\n",
       "\n",
       "    .dataframe thead th {\n",
       "        text-align: right;\n",
       "    }\n",
       "</style>\n",
       "<table border=\"1\" class=\"dataframe\">\n",
       "  <thead>\n",
       "    <tr style=\"text-align: right;\">\n",
       "      <th></th>\n",
       "      <th>年龄</th>\n",
       "      <th>周工作时长</th>\n",
       "      <th>单位性质_ ?</th>\n",
       "      <th>单位性质_ Federal-gov</th>\n",
       "      <th>单位性质_ Local-gov</th>\n",
       "      <th>单位性质_ Never-worked</th>\n",
       "      <th>单位性质_ Private</th>\n",
       "      <th>单位性质_ Self-emp-inc</th>\n",
       "      <th>单位性质_ Self-emp-not-inc</th>\n",
       "      <th>单位性质_ State-gov</th>\n",
       "      <th>...</th>\n",
       "      <th>职业_ Machine-op-inspct</th>\n",
       "      <th>职业_ Other-service</th>\n",
       "      <th>职业_ Priv-house-serv</th>\n",
       "      <th>职业_ Prof-specialty</th>\n",
       "      <th>职业_ Protective-serv</th>\n",
       "      <th>职业_ Sales</th>\n",
       "      <th>职业_ Tech-support</th>\n",
       "      <th>职业_ Transport-moving</th>\n",
       "      <th>收入_ &lt;=50K</th>\n",
       "      <th>收入_ &gt;50K</th>\n",
       "    </tr>\n",
       "  </thead>\n",
       "  <tbody>\n",
       "    <tr>\n",
       "      <th>0</th>\n",
       "      <td>39</td>\n",
       "      <td>40</td>\n",
       "      <td>0</td>\n",
       "      <td>0</td>\n",
       "      <td>0</td>\n",
       "      <td>0</td>\n",
       "      <td>0</td>\n",
       "      <td>0</td>\n",
       "      <td>0</td>\n",
       "      <td>1</td>\n",
       "      <td>...</td>\n",
       "      <td>0</td>\n",
       "      <td>0</td>\n",
       "      <td>0</td>\n",
       "      <td>0</td>\n",
       "      <td>0</td>\n",
       "      <td>0</td>\n",
       "      <td>0</td>\n",
       "      <td>0</td>\n",
       "      <td>1</td>\n",
       "      <td>0</td>\n",
       "    </tr>\n",
       "    <tr>\n",
       "      <th>1</th>\n",
       "      <td>50</td>\n",
       "      <td>13</td>\n",
       "      <td>0</td>\n",
       "      <td>0</td>\n",
       "      <td>0</td>\n",
       "      <td>0</td>\n",
       "      <td>0</td>\n",
       "      <td>0</td>\n",
       "      <td>1</td>\n",
       "      <td>0</td>\n",
       "      <td>...</td>\n",
       "      <td>0</td>\n",
       "      <td>0</td>\n",
       "      <td>0</td>\n",
       "      <td>0</td>\n",
       "      <td>0</td>\n",
       "      <td>0</td>\n",
       "      <td>0</td>\n",
       "      <td>0</td>\n",
       "      <td>1</td>\n",
       "      <td>0</td>\n",
       "    </tr>\n",
       "    <tr>\n",
       "      <th>2</th>\n",
       "      <td>38</td>\n",
       "      <td>40</td>\n",
       "      <td>0</td>\n",
       "      <td>0</td>\n",
       "      <td>0</td>\n",
       "      <td>0</td>\n",
       "      <td>1</td>\n",
       "      <td>0</td>\n",
       "      <td>0</td>\n",
       "      <td>0</td>\n",
       "      <td>...</td>\n",
       "      <td>0</td>\n",
       "      <td>0</td>\n",
       "      <td>0</td>\n",
       "      <td>0</td>\n",
       "      <td>0</td>\n",
       "      <td>0</td>\n",
       "      <td>0</td>\n",
       "      <td>0</td>\n",
       "      <td>1</td>\n",
       "      <td>0</td>\n",
       "    </tr>\n",
       "    <tr>\n",
       "      <th>3</th>\n",
       "      <td>53</td>\n",
       "      <td>40</td>\n",
       "      <td>0</td>\n",
       "      <td>0</td>\n",
       "      <td>0</td>\n",
       "      <td>0</td>\n",
       "      <td>1</td>\n",
       "      <td>0</td>\n",
       "      <td>0</td>\n",
       "      <td>0</td>\n",
       "      <td>...</td>\n",
       "      <td>0</td>\n",
       "      <td>0</td>\n",
       "      <td>0</td>\n",
       "      <td>0</td>\n",
       "      <td>0</td>\n",
       "      <td>0</td>\n",
       "      <td>0</td>\n",
       "      <td>0</td>\n",
       "      <td>1</td>\n",
       "      <td>0</td>\n",
       "    </tr>\n",
       "    <tr>\n",
       "      <th>4</th>\n",
       "      <td>28</td>\n",
       "      <td>40</td>\n",
       "      <td>0</td>\n",
       "      <td>0</td>\n",
       "      <td>0</td>\n",
       "      <td>0</td>\n",
       "      <td>1</td>\n",
       "      <td>0</td>\n",
       "      <td>0</td>\n",
       "      <td>0</td>\n",
       "      <td>...</td>\n",
       "      <td>0</td>\n",
       "      <td>0</td>\n",
       "      <td>0</td>\n",
       "      <td>1</td>\n",
       "      <td>0</td>\n",
       "      <td>0</td>\n",
       "      <td>0</td>\n",
       "      <td>0</td>\n",
       "      <td>1</td>\n",
       "      <td>0</td>\n",
       "    </tr>\n",
       "  </tbody>\n",
       "</table>\n",
       "<p>5 rows × 46 columns</p>\n",
       "</div>"
      ],
      "text/plain": [
       "   年龄  周工作时长  单位性质_ ?  单位性质_ Federal-gov  单位性质_ Local-gov  单位性质_ Never-worked  \\\n",
       "0  39     40        0                  0                0                   0   \n",
       "1  50     13        0                  0                0                   0   \n",
       "2  38     40        0                  0                0                   0   \n",
       "3  53     40        0                  0                0                   0   \n",
       "4  28     40        0                  0                0                   0   \n",
       "\n",
       "   单位性质_ Private  单位性质_ Self-emp-inc  单位性质_ Self-emp-not-inc  单位性质_ State-gov  \\\n",
       "0              0                   0                       0                1   \n",
       "1              0                   0                       1                0   \n",
       "2              1                   0                       0                0   \n",
       "3              1                   0                       0                0   \n",
       "4              1                   0                       0                0   \n",
       "\n",
       "   ...  职业_ Machine-op-inspct  职业_ Other-service  职业_ Priv-house-serv  \\\n",
       "0  ...                      0                  0                    0   \n",
       "1  ...                      0                  0                    0   \n",
       "2  ...                      0                  0                    0   \n",
       "3  ...                      0                  0                    0   \n",
       "4  ...                      0                  0                    0   \n",
       "\n",
       "   职业_ Prof-specialty  职业_ Protective-serv  职业_ Sales  职业_ Tech-support  \\\n",
       "0                   0                    0          0                 0   \n",
       "1                   0                    0          0                 0   \n",
       "2                   0                    0          0                 0   \n",
       "3                   0                    0          0                 0   \n",
       "4                   1                    0          0                 0   \n",
       "\n",
       "   职业_ Transport-moving  收入_ <=50K  收入_ >50K  \n",
       "0                     0          1         0  \n",
       "1                     0          1         0  \n",
       "2                     0          1         0  \n",
       "3                     0          1         0  \n",
       "4                     0          1         0  \n",
       "\n",
       "[5 rows x 46 columns]"
      ]
     },
     "execution_count": 6,
     "metadata": {},
     "output_type": "execute_result"
    }
   ],
   "source": [
    "data_dummies.head()"
   ]
  },
  {
   "cell_type": "code",
   "execution_count": 7,
   "id": "396e0316-6c74-407f-8f77-738b82ddedf3",
   "metadata": {},
   "outputs": [],
   "source": [
    "features = data_dummies.loc[:,'年龄':'职业_ Transport-moving']\n",
    "fea_values = features.values"
   ]
  },
  {
   "cell_type": "code",
   "execution_count": 8,
   "id": "6684fe31-18e3-4ec3-a8c0-34cbd67a31c0",
   "metadata": {},
   "outputs": [],
   "source": [
    "salary_50k = data_dummies['收入_ >50K'].values"
   ]
  },
  {
   "cell_type": "code",
   "execution_count": 10,
   "id": "438993f0-3f3c-4311-aa68-98d696decf1a",
   "metadata": {},
   "outputs": [
    {
     "name": "stdout",
     "output_type": "stream",
     "text": [
      "特征形态:(32561, 44) 标签形态:(32561,)\n"
     ]
    }
   ],
   "source": [
    "print('特征形态:{} 标签形态:{}'.format(fea_values.shape,salary_50k.shape))"
   ]
  },
  {
   "cell_type": "code",
   "execution_count": 11,
   "id": "d1954f4e-2acf-4193-9b5d-c658d920b823",
   "metadata": {},
   "outputs": [],
   "source": [
    "X_train,X_test,y_train,y_test = train_test_split(fea_values,salary_50k,random_state=1)"
   ]
  },
  {
   "cell_type": "code",
   "execution_count": 12,
   "id": "93bb1204-c06e-4df2-8cf3-53927bda0b8b",
   "metadata": {},
   "outputs": [
    {
     "name": "stdout",
     "output_type": "stream",
     "text": [
      "模型预测正确率:0.82\n"
     ]
    }
   ],
   "source": [
    "forest_model = tree.DecisionTreeClassifier(max_depth=7)\n",
    "forest_model.fit(X_train,y_train)\n",
    "print('模型预测正确率:{:.2f}'.format(forest_model.score(X_test,y_test)))"
   ]
  },
  {
   "cell_type": "code",
   "execution_count": 13,
   "id": "683f591b-b017-44b5-93e1-097435cd8243",
   "metadata": {},
   "outputs": [],
   "source": [
    "xiaoming=[[26, 40,0,0,0,0,0,0,1,0,0,0,0,0,0,0,0,0,0,0,0,0,0,1,0,0,0,0,1,0,1,0,0,0,0,0,0,0,0,0,0,0,0,0]]"
   ]
  },
  {
   "cell_type": "code",
   "execution_count": 14,
   "id": "d829c8bc-2c7a-4b13-bbe7-9189642206e9",
   "metadata": {},
   "outputs": [
    {
     "name": "stdout",
     "output_type": "stream",
     "text": [
      "月薪还没有超过五万\n"
     ]
    }
   ],
   "source": [
    "forecast_result = forest_model.predict(xiaoming)\n",
    "if forecast_result== 1:\n",
    "    print(\"月薪已经超过五万\")\n",
    "else:\n",
    "    print(\"月薪还没有超过五万\")"
   ]
  },
  {
   "cell_type": "code",
   "execution_count": null,
   "id": "0ba43672-4a77-461d-b7a4-6fd7c7e518c1",
   "metadata": {},
   "outputs": [],
   "source": []
  }
 ],
 "metadata": {
  "kernelspec": {
   "display_name": "Python 3 (ipykernel)",
   "language": "python",
   "name": "python3"
  },
  "language_info": {
   "codemirror_mode": {
    "name": "ipython",
    "version": 3
   },
   "file_extension": ".py",
   "mimetype": "text/x-python",
   "name": "python",
   "nbconvert_exporter": "python",
   "pygments_lexer": "ipython3",
   "version": "3.10.12"
  }
 },
 "nbformat": 4,
 "nbformat_minor": 5
}
