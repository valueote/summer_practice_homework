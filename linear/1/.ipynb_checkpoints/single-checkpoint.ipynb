{
 "cells": [
  {
   "cell_type": "code",
   "execution_count": 56,
   "id": "022a420c-248e-4734-812b-0ac17bdab356",
   "metadata": {},
   "outputs": [],
   "source": [
    "import pandas as pd"
   ]
  },
  {
   "cell_type": "code",
   "execution_count": 57,
   "id": "1d984f2b-6cd5-4a4e-a32c-f0afc570350d",
   "metadata": {},
   "outputs": [],
   "source": [
    "import numpy as np"
   ]
  },
  {
   "cell_type": "code",
   "execution_count": 58,
   "id": "1f50bf2e-e8ab-469c-a238-daca1d1e2dcd",
   "metadata": {},
   "outputs": [],
   "source": [
    "df_women = pd.read_csv('women.csv',index_col=0)"
   ]
  },
  {
   "cell_type": "code",
   "execution_count": 59,
   "id": "43743d4d-92bd-421f-b3f5-647f82687f60",
   "metadata": {
    "scrolled": true
   },
   "outputs": [
    {
     "name": "stdout",
     "output_type": "stream",
     "text": [
      "   height  weight\n",
      "1      58     115\n",
      "2      59     117\n",
      "3      60     120\n",
      "4      61     123\n",
      "5      62     126\n"
     ]
    }
   ],
   "source": [
    "print(df_women.head())"
   ]
  },
  {
   "cell_type": "code",
   "execution_count": 60,
   "id": "e43fe335-81de-41bf-8c84-b4787fef26b1",
   "metadata": {},
   "outputs": [
    {
     "data": {
      "text/plain": [
       "(15, 2)"
      ]
     },
     "execution_count": 60,
     "metadata": {},
     "output_type": "execute_result"
    }
   ],
   "source": [
    "df_women.shape"
   ]
  },
  {
   "cell_type": "code",
   "execution_count": 61,
   "id": "14935dd3-43d1-471a-a673-108880233f71",
   "metadata": {},
   "outputs": [
    {
     "data": {
      "text/plain": [
       "Index(['height', 'weight'], dtype='object')"
      ]
     },
     "execution_count": 61,
     "metadata": {},
     "output_type": "execute_result"
    }
   ],
   "source": [
    "df_women.columns"
   ]
  },
  {
   "cell_type": "code",
   "execution_count": 62,
   "id": "9c1ce81c-beca-4c54-b9a0-4f9883d10962",
   "metadata": {},
   "outputs": [
    {
     "data": {
      "text/html": [
       "<div>\n",
       "<style scoped>\n",
       "    .dataframe tbody tr th:only-of-type {\n",
       "        vertical-align: middle;\n",
       "    }\n",
       "\n",
       "    .dataframe tbody tr th {\n",
       "        vertical-align: top;\n",
       "    }\n",
       "\n",
       "    .dataframe thead th {\n",
       "        text-align: right;\n",
       "    }\n",
       "</style>\n",
       "<table border=\"1\" class=\"dataframe\">\n",
       "  <thead>\n",
       "    <tr style=\"text-align: right;\">\n",
       "      <th></th>\n",
       "      <th>height</th>\n",
       "      <th>weight</th>\n",
       "    </tr>\n",
       "  </thead>\n",
       "  <tbody>\n",
       "    <tr>\n",
       "      <th>count</th>\n",
       "      <td>15.000000</td>\n",
       "      <td>15.000000</td>\n",
       "    </tr>\n",
       "    <tr>\n",
       "      <th>mean</th>\n",
       "      <td>65.000000</td>\n",
       "      <td>136.733333</td>\n",
       "    </tr>\n",
       "    <tr>\n",
       "      <th>std</th>\n",
       "      <td>4.472136</td>\n",
       "      <td>15.498694</td>\n",
       "    </tr>\n",
       "    <tr>\n",
       "      <th>min</th>\n",
       "      <td>58.000000</td>\n",
       "      <td>115.000000</td>\n",
       "    </tr>\n",
       "    <tr>\n",
       "      <th>25%</th>\n",
       "      <td>61.500000</td>\n",
       "      <td>124.500000</td>\n",
       "    </tr>\n",
       "    <tr>\n",
       "      <th>50%</th>\n",
       "      <td>65.000000</td>\n",
       "      <td>135.000000</td>\n",
       "    </tr>\n",
       "    <tr>\n",
       "      <th>75%</th>\n",
       "      <td>68.500000</td>\n",
       "      <td>148.000000</td>\n",
       "    </tr>\n",
       "    <tr>\n",
       "      <th>max</th>\n",
       "      <td>72.000000</td>\n",
       "      <td>164.000000</td>\n",
       "    </tr>\n",
       "  </tbody>\n",
       "</table>\n",
       "</div>"
      ],
      "text/plain": [
       "          height      weight\n",
       "count  15.000000   15.000000\n",
       "mean   65.000000  136.733333\n",
       "std     4.472136   15.498694\n",
       "min    58.000000  115.000000\n",
       "25%    61.500000  124.500000\n",
       "50%    65.000000  135.000000\n",
       "75%    68.500000  148.000000\n",
       "max    72.000000  164.000000"
      ]
     },
     "execution_count": 62,
     "metadata": {},
     "output_type": "execute_result"
    }
   ],
   "source": [
    "df_women.describe()"
   ]
  },
  {
   "cell_type": "code",
   "execution_count": 63,
   "id": "5cc3ce98-255f-4bdf-8a5c-a256ce74b0eb",
   "metadata": {},
   "outputs": [],
   "source": [
    "import matplotlib.pyplot as plt"
   ]
  },
  {
   "cell_type": "code",
   "execution_count": 64,
   "id": "d3f24991-d37f-4d23-b73d-438cba2d52ba",
   "metadata": {},
   "outputs": [],
   "source": [
    "%matplotlib inline"
   ]
  },
  {
   "cell_type": "code",
   "execution_count": 65,
   "id": "bdf6de80-0efd-4564-b364-bffa0a182712",
   "metadata": {},
   "outputs": [
    {
     "data": {
      "text/plain": [
       "<matplotlib.collections.PathCollection at 0x711a55e51060>"
      ]
     },
     "execution_count": 65,
     "metadata": {},
     "output_type": "execute_result"
    },
    {
     "data": {
      "image/png": "[encoded data removed]",
      "text/plain": [
       "<Figure size 640x480 with 1 Axes>"
      ]
     },
     "metadata": {},
     "output_type": "display_data"
    }
   ],
   "source": [
    " plt.scatter(df_women['height'],df_women['weight'])"
   ]
  },
  {
   "cell_type": "code",
   "execution_count": 66,
   "id": "67f4131a-7361-4cc1-a8c2-833cfc5f3477",
   "metadata": {},
   "outputs": [],
   "source": [
    "plt.show()"
   ]
  },
  {
   "cell_type": "code",
   "execution_count": 67,
   "id": "87f32483-50e9-45f1-a249-ea1e8af9c403",
   "metadata": {},
   "outputs": [],
   "source": [
    "X = df_women['height']"
   ]
  },
  {
   "cell_type": "code",
   "execution_count": 68,
   "id": "0e2e276d-073f-4b70-b8db-242c44254543",
   "metadata": {},
   "outputs": [],
   "source": [
    "y = df_women['weight']"
   ]
  },
  {
   "cell_type": "code",
   "execution_count": 69,
   "id": "23188398-3b20-4859-ba67-defdcd330cad",
   "metadata": {},
   "outputs": [
    {
     "name": "stdout",
     "output_type": "stream",
     "text": [
      "1     58\n",
      "2     59\n",
      "3     60\n",
      "4     61\n",
      "5     62\n",
      "6     63\n",
      "7     64\n",
      "8     65\n",
      "9     66\n",
      "10    67\n",
      "11    68\n",
      "12    69\n",
      "13    70\n",
      "14    71\n",
      "15    72\n",
      "Name: height, dtype: int64\n",
      "1     115\n",
      "2     117\n",
      "3     120\n",
      "4     123\n",
      "5     126\n",
      "6     129\n",
      "7     132\n",
      "8     135\n",
      "9     139\n",
      "10    142\n",
      "11    146\n",
      "12    150\n",
      "13    154\n",
      "14    159\n",
      "15    164\n",
      "Name: weight, dtype: int64\n"
     ]
    }
   ],
   "source": [
    "print(X)\n",
    "print(y)"
   ]
  },
  {
   "cell_type": "code",
   "execution_count": 70,
   "id": "5b495652-bc8d-4b4c-88d3-06fd87f96663",
   "metadata": {},
   "outputs": [
    {
     "data": {
      "text/html": [
       "<div>\n",
       "<style scoped>\n",
       "    .dataframe tbody tr th:only-of-type {\n",
       "        vertical-align: middle;\n",
       "    }\n",
       "\n",
       "    .dataframe tbody tr th {\n",
       "        vertical-align: top;\n",
       "    }\n",
       "\n",
       "    .dataframe thead th {\n",
       "        text-align: right;\n",
       "    }\n",
       "</style>\n",
       "<table border=\"1\" class=\"dataframe\">\n",
       "  <thead>\n",
       "    <tr style=\"text-align: right;\">\n",
       "      <th></th>\n",
       "      <th>const</th>\n",
       "      <th>height</th>\n",
       "    </tr>\n",
       "  </thead>\n",
       "  <tbody>\n",
       "    <tr>\n",
       "      <th>1</th>\n",
       "      <td>1.0</td>\n",
       "      <td>58</td>\n",
       "    </tr>\n",
       "    <tr>\n",
       "      <th>2</th>\n",
       "      <td>1.0</td>\n",
       "      <td>59</td>\n",
       "    </tr>\n",
       "    <tr>\n",
       "      <th>3</th>\n",
       "      <td>1.0</td>\n",
       "      <td>60</td>\n",
       "    </tr>\n",
       "    <tr>\n",
       "      <th>4</th>\n",
       "      <td>1.0</td>\n",
       "      <td>61</td>\n",
       "    </tr>\n",
       "    <tr>\n",
       "      <th>5</th>\n",
       "      <td>1.0</td>\n",
       "      <td>62</td>\n",
       "    </tr>\n",
       "    <tr>\n",
       "      <th>6</th>\n",
       "      <td>1.0</td>\n",
       "      <td>63</td>\n",
       "    </tr>\n",
       "    <tr>\n",
       "      <th>7</th>\n",
       "      <td>1.0</td>\n",
       "      <td>64</td>\n",
       "    </tr>\n",
       "    <tr>\n",
       "      <th>8</th>\n",
       "      <td>1.0</td>\n",
       "      <td>65</td>\n",
       "    </tr>\n",
       "    <tr>\n",
       "      <th>9</th>\n",
       "      <td>1.0</td>\n",
       "      <td>66</td>\n",
       "    </tr>\n",
       "    <tr>\n",
       "      <th>10</th>\n",
       "      <td>1.0</td>\n",
       "      <td>67</td>\n",
       "    </tr>\n",
       "    <tr>\n",
       "      <th>11</th>\n",
       "      <td>1.0</td>\n",
       "      <td>68</td>\n",
       "    </tr>\n",
       "    <tr>\n",
       "      <th>12</th>\n",
       "      <td>1.0</td>\n",
       "      <td>69</td>\n",
       "    </tr>\n",
       "    <tr>\n",
       "      <th>13</th>\n",
       "      <td>1.0</td>\n",
       "      <td>70</td>\n",
       "    </tr>\n",
       "    <tr>\n",
       "      <th>14</th>\n",
       "      <td>1.0</td>\n",
       "      <td>71</td>\n",
       "    </tr>\n",
       "    <tr>\n",
       "      <th>15</th>\n",
       "      <td>1.0</td>\n",
       "      <td>72</td>\n",
       "    </tr>\n",
       "  </tbody>\n",
       "</table>\n",
       "</div>"
      ],
      "text/plain": [
       "    const  height\n",
       "1     1.0      58\n",
       "2     1.0      59\n",
       "3     1.0      60\n",
       "4     1.0      61\n",
       "5     1.0      62\n",
       "6     1.0      63\n",
       "7     1.0      64\n",
       "8     1.0      65\n",
       "9     1.0      66\n",
       "10    1.0      67\n",
       "11    1.0      68\n",
       "12    1.0      69\n",
       "13    1.0      70\n",
       "14    1.0      71\n",
       "15    1.0      72"
      ]
     },
     "execution_count": 70,
     "metadata": {},
     "output_type": "execute_result"
    }
   ],
   "source": [
    "import statsmodels.api as sm\n",
    "X = sm.add_constant(X)\n",
    "X"
   ]
  },
  {
   "cell_type": "code",
   "execution_count": 71,
   "id": "5c962e35-ac35-484d-9aa1-00a248bfc997",
   "metadata": {},
   "outputs": [],
   "source": [
    "myModel = sm.OLS(y,X)"
   ]
  },
  {
   "cell_type": "code",
   "execution_count": 72,
   "id": "86eacde2-dfaa-4245-a9f0-987e00a1369b",
   "metadata": {},
   "outputs": [],
   "source": [
    "result = myModel.fit()"
   ]
  },
  {
   "cell_type": "code",
   "execution_count": 73,
   "id": "7f762210-c2be-487f-9bd0-d9fe259e2dfb",
   "metadata": {},
   "outputs": [
    {
     "name": "stderr",
     "output_type": "stream",
     "text": [
      "/usr/lib/python3/dist-packages/scipy/stats/_stats_py.py:1477: UserWarning: kurtosistest only valid for n>=20 ... continuing anyway, n=15\n",
      "  warnings.warn(\"kurtosistest only valid for n>=20 ... continuing \"\n"
     ]
    },
    {
     "data": {
      "text/html": [
       "<table class=\"simpletable\">\n",
       "<caption>OLS Regression Results</caption>\n",
       "<tr>\n",
       "  <th>Dep. Variable:</th>         <td>weight</td>      <th>  R-squared:         </th> <td>   0.991</td>\n",
       "</tr>\n",
       "<tr>\n",
       "  <th>Model:</th>                   <td>OLS</td>       <th>  Adj. R-squared:    </th> <td>   0.990</td>\n",
       "</tr>\n",
       "<tr>\n",
       "  <th>Method:</th>             <td>Least Squares</td>  <th>  F-statistic:       </th> <td>   1433.</td>\n",
       "</tr>\n",
       "<tr>\n",
       "  <th>Date:</th>             <td>Fri, 05 Jul 2024</td> <th>  Prob (F-statistic):</th> <td>1.09e-14</td>\n",
       "</tr>\n",
       "<tr>\n",
       "  <th>Time:</th>                 <td>09:29:16</td>     <th>  Log-Likelihood:    </th> <td> -26.541</td>\n",
       "</tr>\n",
       "<tr>\n",
       "  <th>No. Observations:</th>      <td>    15</td>      <th>  AIC:               </th> <td>   57.08</td>\n",
       "</tr>\n",
       "<tr>\n",
       "  <th>Df Residuals:</th>          <td>    13</td>      <th>  BIC:               </th> <td>   58.50</td>\n",
       "</tr>\n",
       "<tr>\n",
       "  <th>Df Model:</th>              <td>     1</td>      <th>                     </th>     <td> </td>   \n",
       "</tr>\n",
       "<tr>\n",
       "  <th>Covariance Type:</th>      <td>nonrobust</td>    <th>                     </th>     <td> </td>   \n",
       "</tr>\n",
       "</table>\n",
       "<table class=\"simpletable\">\n",
       "<tr>\n",
       "     <td></td>       <th>coef</th>     <th>std err</th>      <th>t</th>      <th>P>|t|</th>  <th>[0.025</th>    <th>0.975]</th>  \n",
       "</tr>\n",
       "<tr>\n",
       "  <th>const</th>  <td>  -87.5167</td> <td>    5.937</td> <td>  -14.741</td> <td> 0.000</td> <td> -100.343</td> <td>  -74.691</td>\n",
       "</tr>\n",
       "<tr>\n",
       "  <th>height</th> <td>    3.4500</td> <td>    0.091</td> <td>   37.855</td> <td> 0.000</td> <td>    3.253</td> <td>    3.647</td>\n",
       "</tr>\n",
       "</table>\n",
       "<table class=\"simpletable\">\n",
       "<tr>\n",
       "  <th>Omnibus:</th>       <td> 2.396</td> <th>  Durbin-Watson:     </th> <td>   0.315</td>\n",
       "</tr>\n",
       "<tr>\n",
       "  <th>Prob(Omnibus):</th> <td> 0.302</td> <th>  Jarque-Bera (JB):  </th> <td>   1.660</td>\n",
       "</tr>\n",
       "<tr>\n",
       "  <th>Skew:</th>          <td> 0.789</td> <th>  Prob(JB):          </th> <td>   0.436</td>\n",
       "</tr>\n",
       "<tr>\n",
       "  <th>Kurtosis:</th>      <td> 2.596</td> <th>  Cond. No.          </th> <td>    982.</td>\n",
       "</tr>\n",
       "</table><br/><br/>Notes:<br/>[1] Standard Errors assume that the covariance matrix of the errors is correctly specified."
      ],
      "text/plain": [
       "<class 'statsmodels.iolib.summary.Summary'>\n",
       "\"\"\"\n",
       "                            OLS Regression Results                            \n",
       "==============================================================================\n",
       "Dep. Variable:                 weight   R-squared:                       0.991\n",
       "Model:                            OLS   Adj. R-squared:                  0.990\n",
       "Method:                 Least Squares   F-statistic:                     1433.\n",
       "Date:                Fri, 05 Jul 2024   Prob (F-statistic):           1.09e-14\n",
       "Time:                        09:29:16   Log-Likelihood:                -26.541\n",
       "No. Observations:                  15   AIC:                             57.08\n",
       "Df Residuals:                      13   BIC:                             58.50\n",
       "Df Model:                           1                                         \n",
       "Covariance Type:            nonrobust                                         \n",
       "==============================================================================\n",
       "                 coef    std err          t      P>|t|      [0.025      0.975]\n",
       "------------------------------------------------------------------------------\n",
       "const        -87.5167      5.937    -14.741      0.000    -100.343     -74.691\n",
       "height         3.4500      0.091     37.855      0.000       3.253       3.647\n",
       "==============================================================================\n",
       "Omnibus:                        2.396   Durbin-Watson:                   0.315\n",
       "Prob(Omnibus):                  0.302   Jarque-Bera (JB):                1.660\n",
       "Skew:                           0.789   Prob(JB):                        0.436\n",
       "Kurtosis:                       2.596   Cond. No.                         982.\n",
       "==============================================================================\n",
       "\n",
       "Notes:\n",
       "[1] Standard Errors assume that the covariance matrix of the errors is correctly specified.\n",
       "\"\"\""
      ]
     },
     "execution_count": 73,
     "metadata": {},
     "output_type": "execute_result"
    }
   ],
   "source": [
    "result.summary()"
   ]
  },
  {
   "cell_type": "raw",
   "id": "d06d5032-3979-46cf-b118-9db3dbfe3ab2",
   "metadata": {},
   "source": [
    "result.params"
   ]
  },
  {
   "cell_type": "code",
   "execution_count": 75,
   "id": "fdf27adb-c75e-4edf-afb9-7ec2a7b1bcd0",
   "metadata": {},
   "outputs": [
    {
     "data": {
      "text/plain": [
       "0.9910098326857505"
      ]
     },
     "execution_count": 75,
     "metadata": {},
     "output_type": "execute_result"
    }
   ],
   "source": [
    "result.rsquared"
   ]
  },
  {
   "cell_type": "code",
   "execution_count": 76,
   "id": "bc02181a-99b8-4c1d-a718-e17a581c9ce7",
   "metadata": {},
   "outputs": [
    {
     "data": {
      "text/plain": [
       "1     2.416667\n",
       "2     0.966667\n",
       "3     0.516667\n",
       "4     0.066667\n",
       "5    -0.383333\n",
       "6    -0.833333\n",
       "7    -1.283333\n",
       "8    -1.733333\n",
       "9    -1.183333\n",
       "10   -1.633333\n",
       "11   -1.083333\n",
       "12   -0.533333\n",
       "13    0.016667\n",
       "14    1.566667\n",
       "15    3.116667\n",
       "dtype: float64"
      ]
     },
     "execution_count": 76,
     "metadata": {},
     "output_type": "execute_result"
    }
   ],
   "source": [
    "result.resid"
   ]
  },
  {
   "cell_type": "code",
   "execution_count": 77,
   "id": "6a72e277-125d-4c88-a541-bf5c39ebb052",
   "metadata": {},
   "outputs": [
    {
     "data": {
      "text/plain": [
       "(15,)"
      ]
     },
     "execution_count": 77,
     "metadata": {},
     "output_type": "execute_result"
    }
   ],
   "source": [
    "result.resid.shape"
   ]
  },
  {
   "cell_type": "code",
   "execution_count": 78,
   "id": "58b5fdb6-356e-4788-88cb-4eb794a4b83a",
   "metadata": {},
   "outputs": [],
   "source": [
    "from scipy import stats"
   ]
  },
  {
   "cell_type": "code",
   "execution_count": 81,
   "id": "fd1065a4-d60a-4b6d-a979-afe9e3063733",
   "metadata": {},
   "outputs": [],
   "source": [
    "z,p = stats.normaltest(result.resid.values)"
   ]
  },
  {
   "cell_type": "code",
   "execution_count": 82,
   "id": "2a29994a-d38a-4a5f-b776-875377de6d70",
   "metadata": {},
   "outputs": [
    {
     "data": {
      "text/plain": [
       "0.3017415831954994"
      ]
     },
     "execution_count": 82,
     "metadata": {},
     "output_type": "execute_result"
    }
   ],
   "source": [
    "p"
   ]
  },
  {
   "cell_type": "code",
   "execution_count": 83,
   "id": "fb09047f-3cd6-4da9-8fd2-2a112d2d5a04",
   "metadata": {},
   "outputs": [
    {
     "data": {
      "text/plain": [
       "0.3153803748621831"
      ]
     },
     "execution_count": 83,
     "metadata": {},
     "output_type": "execute_result"
    }
   ],
   "source": [
    " sm.stats.stattools.durbin_watson(result.resid)"
   ]
  },
  {
   "cell_type": "code",
   "execution_count": 85,
   "id": "7a931e9f-b167-4be8-85bb-f7f447fd5027",
   "metadata": {},
   "outputs": [
    {
     "data": {
      "text/plain": [
       "array([112.58333333, 116.03333333, 119.48333333, 122.93333333,\n",
       "       126.38333333, 129.83333333, 133.28333333, 136.73333333,\n",
       "       140.18333333, 143.63333333, 147.08333333, 150.53333333,\n",
       "       153.98333333, 157.43333333, 160.88333333])"
      ]
     },
     "execution_count": 85,
     "metadata": {},
     "output_type": "execute_result"
    }
   ],
   "source": [
    "y_predict = result.predict()\n",
    "y_predict"
   ]
  },
  {
   "cell_type": "code",
   "execution_count": 86,
   "id": "2b6b93f1-252a-4d93-9fd4-34031c32f779",
   "metadata": {},
   "outputs": [
    {
     "data": {
      "text/plain": [
       "[<matplotlib.lines.Line2D at 0x711a55d5a7a0>]"
      ]
     },
     "execution_count": 86,
     "metadata": {},
     "output_type": "execute_result"
    },
    {
     "data": {
      "image/png": "[encoded data removed]",
      "text/plain": [
       "<Figure size 640x480 with 1 Axes>"
      ]
     },
     "metadata": {},
     "output_type": "display_data"
    }
   ],
   "source": [
    "plt.plot(df_women['height'],df_women['weight'],'o')"
   ]
  },
  {
   "cell_type": "code",
   "execution_count": 87,
   "id": "b5930941-20cc-430e-be54-4bac3718deee",
   "metadata": {},
   "outputs": [
    {
     "data": {
      "image/png": "[encoded data removed]",
      "text/plain": [
       "<Figure size 640x480 with 1 Axes>"
      ]
     },
     "metadata": {},
     "output_type": "display_data"
    }
   ],
   "source": [
    "#根据已有身高，按照预测模型作图\n",
    "plt.plot(df_women['height'],y_predict)\n",
    "plt.title(\"Linear regression analysis of female weight and height\")\n",
    "plt.xlabel('height')\n",
    "plt.ylabel('weight ')\n",
    "plt.show()"
   ]
  },
  {
   "cell_type": "code",
   "execution_count": 88,
   "id": "11ab5d99-a79e-4612-991c-0169bf82543d",
   "metadata": {},
   "outputs": [],
   "source": [
    "X = np.column_stack((X,np.power(X,2),np.power(X,3)))"
   ]
  },
  {
   "cell_type": "code",
   "execution_count": 90,
   "id": "9143e6ee-6193-41b7-b059-1e2718211983",
   "metadata": {},
   "outputs": [
    {
     "name": "stdout",
     "output_type": "stream",
     "text": [
      "                            OLS Regression Results                            \n",
      "==============================================================================\n",
      "Dep. Variable:                 weight   R-squared:                       1.000\n",
      "Model:                            OLS   Adj. R-squared:                  1.000\n",
      "Method:                 Least Squares   F-statistic:                 1.679e+04\n",
      "Date:                Fri, 05 Jul 2024   Prob (F-statistic):           2.07e-20\n",
      "Time:                        09:44:11   Log-Likelihood:                 1.3441\n",
      "No. Observations:                  15   AIC:                             5.312\n",
      "Df Residuals:                      11   BIC:                             8.144\n",
      "Df Model:                           3                                         \n",
      "Covariance Type:            nonrobust                                         \n",
      "==============================================================================\n",
      "                 coef    std err          t      P>|t|      [0.025      0.975]\n",
      "------------------------------------------------------------------------------\n",
      "const       -298.9159     98.192     -3.044      0.011    -515.034     -82.798\n",
      "x1            46.4108     13.655      3.399      0.006      16.356      76.466\n",
      "x2          -298.9159     98.192     -3.044      0.011    -515.034     -82.798\n",
      "x3            -0.7462      0.211     -3.544      0.005      -1.210      -0.283\n",
      "x4          -298.9159     98.192     -3.044      0.011    -515.034     -82.798\n",
      "x5             0.0043      0.001      3.940      0.002       0.002       0.007\n",
      "==============================================================================\n",
      "Omnibus:                        0.028   Durbin-Watson:                   2.388\n",
      "Prob(Omnibus):                  0.986   Jarque-Bera (JB):                0.127\n",
      "Skew:                           0.049   Prob(JB):                        0.939\n",
      "Kurtosis:                       2.561   Cond. No.                     2.74e+24\n",
      "==============================================================================\n",
      "\n",
      "Notes:\n",
      "[1] Standard Errors assume that the covariance matrix of the errors is correctly specified.\n",
      "[2] The smallest eigenvalue is 1.6e-37. This might indicate that there are\n",
      "strong multicollinearity problems or that the design matrix is singular.\n"
     ]
    },
    {
     "name": "stderr",
     "output_type": "stream",
     "text": [
      "/usr/lib/python3/dist-packages/scipy/stats/_stats_py.py:1477: UserWarning: kurtosistest only valid for n>=20 ... continuing anyway, n=15\n",
      "  warnings.warn(\"kurtosistest only valid for n>=20 ... continuing \"\n"
     ]
    }
   ],
   "source": [
    "X = sm.add_constant(X)\n",
    "myModel_updated = sm.OLS(y,X)\n",
    "result_updated = myModel_updated.fit()\n",
    "print(result_updated.summary())"
   ]
  },
  {
   "cell_type": "code",
   "execution_count": 91,
   "id": "732ea600-8083-4045-ac93-884ba56510df",
   "metadata": {},
   "outputs": [],
   "source": [
    "y_predict_result_updated = result_updated.predict()"
   ]
  },
  {
   "cell_type": "code",
   "execution_count": 92,
   "id": "579ef1cb-e889-4b80-96bd-46e6796c5ecd",
   "metadata": {},
   "outputs": [
    {
     "data": {
      "text/plain": [
       "array([114.63856209, 117.40676937, 120.18801264, 123.00780722,\n",
       "       125.89166846, 128.86511168, 131.95365223, 135.18280542,\n",
       "       138.57808661, 142.16501113, 145.9690943 , 150.01585146,\n",
       "       154.33079796, 158.93944911, 163.86732026])"
      ]
     },
     "execution_count": 92,
     "metadata": {},
     "output_type": "execute_result"
    }
   ],
   "source": [
    " y_predict_result_updated"
   ]
  },
  {
   "cell_type": "code",
   "execution_count": 93,
   "id": "58b27fc2-a777-4259-ba8c-eeb585302876",
   "metadata": {},
   "outputs": [
    {
     "data": {
      "text/plain": [
       "const   -298.915878\n",
       "x1        46.410789\n",
       "x2      -298.915878\n",
       "x3        -0.746184\n",
       "x4      -298.915878\n",
       "x5         0.004253\n",
       "dtype: float64"
      ]
     },
     "execution_count": 93,
     "metadata": {},
     "output_type": "execute_result"
    }
   ],
   "source": [
    "result_updated.params"
   ]
  },
  {
   "cell_type": "code",
   "execution_count": 94,
   "id": "52db8031-f1ba-41b4-8a22-333f5c296080",
   "metadata": {},
   "outputs": [
    {
     "data": {
      "text/plain": [
       "1     0.361438\n",
       "2    -0.406769\n",
       "3    -0.188013\n",
       "4    -0.007807\n",
       "5     0.108332\n",
       "6     0.134888\n",
       "7     0.046348\n",
       "8    -0.182805\n",
       "9     0.421913\n",
       "10   -0.165011\n",
       "11    0.030906\n",
       "12   -0.015851\n",
       "13   -0.330798\n",
       "14    0.060551\n",
       "15    0.132680\n",
       "dtype: float64"
      ]
     },
     "execution_count": 94,
     "metadata": {},
     "output_type": "execute_result"
    }
   ],
   "source": [
    "result_updated.resid"
   ]
  },
  {
   "cell_type": "code",
   "execution_count": 95,
   "id": "e6058d6b-14bc-4ee1-8b5d-5e6126b05263",
   "metadata": {},
   "outputs": [
    {
     "data": {
      "text/plain": [
       "0.228996027914273"
      ]
     },
     "execution_count": 95,
     "metadata": {},
     "output_type": "execute_result"
    }
   ],
   "source": [
    "result_updated.resid.std()"
   ]
  },
  {
   "cell_type": "code",
   "execution_count": 97,
   "id": "7db54d09-51d6-4a06-8b91-b86853dd1823",
   "metadata": {},
   "outputs": [
    {
     "data": {
      "text/plain": [
       "2.3882056438315873"
      ]
     },
     "execution_count": 97,
     "metadata": {},
     "output_type": "execute_result"
    }
   ],
   "source": [
    "sm.stats.stattools.durbin_watson(result_updated.resid)"
   ]
  },
  {
   "cell_type": "code",
   "execution_count": 102,
   "id": "45bc5b94-4372-4c0b-9ffb-3fe4e7ed32e5",
   "metadata": {},
   "outputs": [
    {
     "name": "stderr",
     "output_type": "stream",
     "text": [
      "findfont: Font family ['simHei'] not found. Falling back to DejaVu Sans.\n",
      "findfont: Font family ['simHei'] not found. Falling back to DejaVu Sans.\n"
     ]
    },
    {
     "data": {
      "image/png": "[encoded data removed]",
      "text/plain": [
       "<Figure size 640x480 with 1 Axes>"
      ]
     },
     "metadata": {},
     "output_type": "display_data"
    }
   ],
   "source": [
    "plt.rcParams['font.family']='simHei'\n",
    "plt.scatter(df_women['height'],df_women['weight'])\n",
    "plt.plot(df_women['height'],y_predict_result_updated)\n",
    "plt.title(\"Linear regression analysis of male weight and height\")\n",
    "plt.xlabel('height')\n",
    "plt.ylabel('weight')\n",
    "plt.show()"
   ]
  },
  {
   "cell_type": "code",
   "execution_count": null,
   "id": "50c3f29f-0a6f-4fa4-80ee-5737ae9e54a5",
   "metadata": {},
   "outputs": [],
   "source": []
  }
 ],
 "metadata": {
  "kernelspec": {
   "display_name": "Python 3 (ipykernel)",
   "language": "python",
   "name": "python3"
  },
  "language_info": {
   "codemirror_mode": {
    "name": "ipython",
    "version": 3
   },
   "file_extension": ".py",
   "mimetype": "text/x-python",
   "name": "python",
   "nbconvert_exporter": "python",
   "pygments_lexer": "ipython3",
   "version": "3.10.12"
  }
 },
 "nbformat": 4,
 "nbformat_minor": 5
}
